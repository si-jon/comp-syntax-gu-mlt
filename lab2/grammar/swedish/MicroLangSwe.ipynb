{
 "cells": [
  {
   "cell_type": "code",
   "execution_count": 7,
   "metadata": {},
   "outputs": [
    {
     "data": {
      "text/plain": [
       "Defined MicroLang"
      ]
     },
     "metadata": {},
     "output_type": "display_data"
    }
   ],
   "source": [
    "abstract MicroLang = {\n",
    "    cat\n",
    "    Utt ;\n",
    "    \n",
    "    S ;\n",
    "    VP ;\n",
    "    Comp ;\n",
    "    AP ;\n",
    "    CN ; -- common noun (without determiner)\n",
    "    NP ; -- noun phrase\n",
    "    Det ;\n",
    "    Prep ;\n",
    "    V ;\n",
    "    V2 ;\n",
    "    A ; \n",
    "    N ;\n",
    "    Pron ;\n",
    "    Adv ;\n",
    "\n",
    "    fun\n",
    "-- Phrase\n",
    "    UttS    : S  -> Utt ;\n",
    "    UttNP   : NP -> Utt ;\n",
    "\n",
    "-- Sentence\n",
    "    PredVPS : NP -> VP -> S ;\n",
    "\n",
    "-- Verb\n",
    "    UseV    : V  -> VP ;\n",
    "    ComplV2 : V2 -> NP -> VP ;\n",
    "    UseComp : Comp -> VP ;\n",
    "    CompAP : AP -> Comp ;\n",
    "    \n",
    "-- Noun\n",
    "    DetCN      : Det -> CN -> NP ;\n",
    "    a_Det      : Det ;\n",
    "    aPl_Det    : Det ;\n",
    "    the_Det    : Det ;\n",
    "    thePl_Det  : Det ;\n",
    "    UseN       : N -> CN ;\n",
    "    AdjCN      : AP -> CN -> CN ;\n",
    "    \n",
    "-- Adjective\n",
    "    PositA     : A -> AP ;\n",
    "\n",
    "    fun\n",
    "    boy_N : N ;\n",
    "    girl_N : N ;\n",
    "    house_N : N ;\n",
    "    clever_A : A ;\n",
    "    big_A : A ;\n",
    "    jump_V : V ;\n",
    "    play_V : V ;\n",
    "    love_V2 : V2 ;\n",
    "    see_V2 : V2 ;\n",
    "    \n",
    "}\n"
   ]
  },
  {
   "cell_type": "code",
   "execution_count": 8,
   "metadata": {},
   "outputs": [
    {
     "data": {
      "text/plain": [
       "Abstract changed, previous concretes discarded.\n"
      ]
     },
     "metadata": {},
     "output_type": "display_data"
    }
   ],
   "source": [
    "resource MicroResSwe = {\n",
    "\n",
    "    param\n",
    "        Number = Sg | Pl ;\n",
    "        Species = Indef | Def ;\n",
    "        Gender = Utr | Neutr ;\n",
    "        Degree = Positive | Comparative | Superlative ;\n",
    "        \n",
    "        VForm = Inf | Pres | Pret | Perf ;\n",
    "    oper\n",
    "    -- Noun\n",
    "        Noun : Type = { s : Number => Species => Str ; g : Gender} ;\n",
    "\n",
    "        mkNoun : Str -> Str -> Str -> Str -> Gender -> Noun\n",
    "        = \\sgIndef,sgDef,plIndef,plDef,gen -> {\n",
    "          s = table {\n",
    "              Sg => table {Indef => sgIndef ; Def => sgDef} ;\n",
    "              Pl => table {Indef => plIndef; Def => plDef}\n",
    "          } ;\n",
    "          g = gen\n",
    "        } ;\n",
    "\n",
    "        smartNoun : Str -> Gender -> Noun = \\sgIndef,gen -> case gen of {\n",
    "        Utr => case sgIndef of {\n",
    "            pojk + \"e\" => mkNoun sgIndef (pojk + \"en\") (pojk + \"ar\") (pojk + \"arna\") gen ;\n",
    "            flick + \"a\" => mkNoun sgIndef (flick + \"an\") (flick + \"or\") (flick + \"orna\") gen ;\n",
    "            cyk + \"el\" => mkNoun sgIndef (cyk + \"eln\") (cyk + \"lar\") (cyk + \"larna\") gen ;\n",
    "            vä + \"n\" => mkNoun sgIndef (vä + \"nnen\") (vä + \"nner\") (vä + \"nnerna\") gen ;\n",
    "            dat + \"or\" => mkNoun sgIndef (dat + \"orn\") (dat + \"orer\") (dat + \"orerna\") gen ;\n",
    "            _ => mkNoun sgIndef (sgIndef + \"en\") (sgIndef + \"ar\") (sgIndef + \"arna\") gen\n",
    "            } ;\n",
    "        Neutr => case sgIndef of {\n",
    "            äppl + \"e\" => mkNoun sgIndef (äppl + \"et\")  (äppl + \"en\") (äppl + \"ena\") gen ;\n",
    "            vatt + \"en\" => mkNoun sgIndef (vatt + \"net\")  (vatt + \"en\") (vatt + \"nen\") gen ;\n",
    "            _ => mkNoun sgIndef (sgIndef + \"et\") (sgIndef) (sgIndef + \"en\") gen\n",
    "            }\n",
    "        } ;\n",
    "    \n",
    "    -- Adjective\n",
    "        Adjective : Type = {s : Number => Species => Gender => Str} ;\n",
    "        \n",
    "        mkAdjective : Str -> Str -> Str -> Str -> Adjective\n",
    "        = \\utrSgIndef, neutrSgIndef, sgDef, pl -> {\n",
    "          s = table {\n",
    "              Sg => table {\n",
    "                  Indef => table {Utr => utrSgIndef ; Neutr => neutrSgIndef}; \n",
    "                  Def => table {_ => sgDef}\n",
    "              } ;\n",
    "              Pl => table {\n",
    "                    _=> table {\n",
    "                        _ => pl\n",
    "                    }\n",
    "                }\n",
    "            }\n",
    "        } ;\n",
    " \n",
    "        smartAdjective : Str -> Adjective = \\adj -> case adj of {\n",
    "            smar + \"t\" => mkAdjective adj adj (adj + \"a\") (adj + \"a\") ;\n",
    "            _ => mkAdjective adj (adj + \"t\") (adj + \"a\") (adj + \"a\")\n",
    "        } ;\n",
    "  \n",
    "    -- Verb\n",
    "        Verb : Type = {s : VForm => Str} ;\n",
    "\n",
    "        mkVerb : (inf,pres,pret,perf : Str) -> Verb\n",
    "            = \\inf,pres,pret,perf -> {\n",
    "            s = table {\n",
    "                Inf => inf ;\n",
    "                Pres => pres ;\n",
    "                Pret => pret ;\n",
    "                Perf => perf\n",
    "            }\n",
    "        } ;\n",
    "\n",
    "        regVerb : (inf : Str) -> Verb = \\inf ->\n",
    "            mkVerb inf (inf + \"r\") (inf + \"de\") (inf + \"t\") ;\n",
    "\n",
    "        irregVerb : (inf,pres,pret,perf : Str) -> Verb = \n",
    "            \\inf,pres,pret,perf ->\n",
    "                mkVerb inf pres pret perf ;\n",
    "\n",
    "        Verb2 : Type = Verb ** {c : Str} ;\n",
    "    \n",
    "        be_Verb : Verb = mkVerb \"vara\" \"är\" \"var\" \"varit\" ;\n",
    "        \n",
    "}"
   ]
  },
  {
   "cell_type": "code",
   "execution_count": 9,
   "metadata": {},
   "outputs": [
    {
     "data": {
      "text/plain": [
       "Abstract changed, previous concretes discarded.\n"
      ]
     },
     "metadata": {},
     "output_type": "display_data"
    }
   ],
   "source": [
    "concrete MicroLangSwe of MicroLang = open MicroResSwe in {\n",
    "    lincat\n",
    "    Utt = {s : Str} ;\n",
    "    \n",
    "    S = {s : Str} ;\n",
    "    VP = {verb : Verb ; compl : Str} ;\n",
    "    Comp = {s : Number => Species => Gender => Str} ;\n",
    "    AP = Adjective ;\n",
    "    CN = Noun ;\n",
    "    NP = {s : Str} ;\n",
    "    Det = {s : Gender => Str ; n : Number ; sp : Species} ;\n",
    "    V = Verb ;\n",
    "    V2 = Verb2 ;\n",
    "    A = Adjective ; \n",
    "    N = Noun ;\n",
    "    \n",
    "    lin\n",
    "-- Phrase\n",
    "    UttS s = s ;\n",
    "    UttNP np = {s = np.s} ;\n",
    "\n",
    "-- Sentence\n",
    "    PredVPS np vp = {\n",
    "        s = np.s ++ vp.verb.s ! Pres\n",
    "    } ;\n",
    "\n",
    "-- Verb\n",
    "    UseV v = {\n",
    "        verb = v ;\n",
    "        compl = [] ;\n",
    "    } ;\n",
    "    \n",
    "    ComplV2 v2 np = {\n",
    "        verb = v2 ;\n",
    "        compl = v2.c ++ np.s\n",
    "    } ;\n",
    "    \n",
    "    UseComp comp = {\n",
    "        verb = be_Verb ;\n",
    "        compl = []\n",
    "    } ;\n",
    "    \n",
    "    CompAP ap = ap ;\n",
    "    \n",
    "-- Noun\n",
    "    DetCN det cn = {\n",
    "        s = det.s ! cn.g ++ cn.s ! det.n ! det.sp ;\n",
    "    } ;\n",
    "\n",
    "    a_Det = {\n",
    "        s = table {\n",
    "            Utr => \"en\" ;\n",
    "            Neutr => \"ett\"\n",
    "        } ;\n",
    "        n = Sg ; \n",
    "        sp = Indef\n",
    "    } ;\n",
    "    aPl_Det = {\n",
    "        s = table { _ => \"flera\" } ; \n",
    "        n = Pl ;\n",
    "        sp = Indef\n",
    "    } ;\n",
    "    the_Det = {\n",
    "        s = table {\n",
    "            Utr => \"den\" ;\n",
    "            Neutr => \"det\"\n",
    "        } ;\n",
    "        n = Sg ; \n",
    "        sp = Def\n",
    "    } ;\n",
    "    thePl_Det = {\n",
    "        s = table { _ => \"de\" } ;\n",
    "        n = Pl ;\n",
    "        sp = Def\n",
    "    } ;\n",
    "    \n",
    "    UseN n = n ;\n",
    "    \n",
    "    AdjCN ap cn = {\n",
    "        g = cn.g ;\n",
    "        s = table {\n",
    "            n => table {\n",
    "                sp => ap.s ! n ! sp ! cn.g ++ cn.s ! n ! sp\n",
    "            }\n",
    "        } ;\n",
    "    } ;\n",
    "    \n",
    "-- Adjective\n",
    "    PositA a = a ;\n",
    "\n",
    "-- Lexicon part\n",
    "    lin boy_N = mkN \"pojke\" Utr ;\n",
    "    lin girl_N = mkN \"flicka\" Utr ;\n",
    " --   lin house_N = mkN \"hus\" Neutr ;\n",
    " --   lin clever_A = mkA \"smart\" ;\n",
    " --   lin big_A = mkA \"stor\" ;\n",
    " --   lin jump_V = mkV \"hoppa\" ;\n",
    " --   lin play_V = mkV \"leka\" \"leker\" \"lekte\" \"lekt\" ;\n",
    " --   lin love_V2 = mkV2 \"älska\" ;\n",
    "    lin see_V2 = mkV2 (mkV \"se\" \"ser\" \"såg\" \"sett\") ;\n",
    "\n",
    "-- Paradigms part\n",
    "    oper \n",
    "    mkN = overload {\n",
    "        mkN : Str -> Gender -> Noun   -- predictable noun, e.g. bil-bilen-bilar-bilarna, fluga-flugan-flugor-flugorna\n",
    "          = \\n,g -> lin N (smartNoun n g) ;\n",
    "        mkN : Str -> Str -> Str -> Str -> Gender -> Noun  -- irregular noun, e.g. man-mannen-män-männen,\n",
    "          = \\sgIndef,sgDef,plIndef,plDef,gen -> lin N (mkNoun sgIndef sgDef plIndef plDef gen) ;\n",
    "        } ;\n",
    "    -- utrSgIndef, neutrSgIndef, sgDef, pl \n",
    "    mkA = overload {\n",
    "        mkA : Str -> A -- predictable adjective\n",
    "          = \\adj -> lin A (smartAdjective adj) ;\n",
    "        mkA : Str -> Str -> Str -> Str -> A -- very irregular adjective\n",
    "          = \\utrSgIndef,neutrSgIndef,sgDef,pl -> lin A (mkAdjective utrSgIndef neutrSgIndef sgDef pl) ;\n",
    "    } ;\n",
    "    \n",
    "    \n",
    "    mkV = overload {\n",
    "        mkV : (inf : Str) -> V  -- predictable verb, e.g. baka-bakar-bakade-bakat, titta-tittar-tittade-tittat\n",
    "            = \\s -> lin V (regVerb s) ;\n",
    "        mkV : (inf,pres,pret,perf : Str) -> V  -- irregular verb, e.g. sjunga-sjunger-sjöng-sjungit\n",
    "            = \\inf,pres,pret,perf -> lin V (irregVerb inf pres pret perf) ;\n",
    "    } ;\n",
    "  \n",
    "    mkV2 = overload {\n",
    "        mkV2 : Str -> V2          -- predictable verb with direct object, e.g. \"hitta\"\n",
    "            = \\s   -> lin V2 (regVerb s ** {c = []}) ;\n",
    "        mkV2 : Str  -> Str -> V2  -- predictable verb with preposition, e.g. \"vänta - på\"\n",
    "          = \\s,p -> lin V2 (regVerb s ** {c = p}) ;\n",
    "        mkV2 : V -> V2            -- any verb with direct object, e.g. \"drink\"\n",
    "          = \\v   -> lin V2 (v ** {c = []}) ;\n",
    "        mkV2 : V -> Str -> V2     -- any verb with preposition\n",
    "          = \\v,p -> lin V2 (v ** {c = p}) ;\n",
    "    } ;\n",
    "}\n"
   ]
  },
  {
   "cell_type": "code",
   "execution_count": 10,
   "metadata": {},
   "outputs": [
    {
     "data": {
      "text/plain": [
       "PredVPS (DetCN aPl_Det (UseN girl_N)) (ComplV2 see_V2 (DetCN aPl_Det (UseN boy_N)))\n"
      ]
     },
     "metadata": {},
     "output_type": "display_data"
    }
   ],
   "source": [
    "gr"
   ]
  },
  {
   "cell_type": "code",
   "execution_count": null,
   "metadata": {},
   "outputs": [],
   "source": []
  },
  {
   "cell_type": "code",
   "execution_count": 11,
   "metadata": {},
   "outputs": [
    {
     "data": {
      "text/plain": [
       "flera pojkar ser\n"
      ]
     },
     "metadata": {},
     "output_type": "display_data"
    }
   ],
   "source": [
    "gr | lin"
   ]
  },
  {
   "cell_type": "code",
   "execution_count": 12,
   "metadata": {},
   "outputs": [
    {
     "data": {
      "text/plain": [
       "flera pojkar ser\n",
       "flera pojkar ser\n",
       "flera pojkar ser\n",
       "flera pojkar ser\n",
       "flera pojkar ser\n",
       "flera pojkar ser\n",
       "flera pojkar ser\n",
       "flera pojkar ser\n",
       "flera flickor ser\n",
       "flera flickor ser\n",
       "flera flickor ser\n",
       "flera flickor ser\n",
       "flera flickor ser\n",
       "flera flickor ser\n",
       "flera flickor ser\n",
       "flera flickor ser\n",
       "en pojke ser\n",
       "en pojke ser\n",
       "en pojke ser\n",
       "en pojke ser\n",
       "en pojke ser\n",
       "en pojke ser\n",
       "en pojke ser\n",
       "en pojke ser\n",
       "en flicka ser\n",
       "en flicka ser\n",
       "en flicka ser\n",
       "en flicka ser\n",
       "en flicka ser\n",
       "en flicka ser\n",
       "en flicka ser\n",
       "en flicka ser\n",
       "de pojkarna ser\n",
       "de pojkarna ser\n",
       "de pojkarna ser\n",
       "de pojkarna ser\n",
       "de pojkarna ser\n",
       "de pojkarna ser\n",
       "de pojkarna ser\n",
       "de pojkarna ser\n",
       "de flickorna ser\n",
       "de flickorna ser\n",
       "de flickorna ser\n",
       "de flickorna ser\n",
       "de flickorna ser\n",
       "de flickorna ser\n",
       "de flickorna ser\n",
       "de flickorna ser\n",
       "den pojken ser\n",
       "den pojken ser\n",
       "den pojken ser\n",
       "den pojken ser\n",
       "den pojken ser\n",
       "den pojken ser\n",
       "den pojken ser\n",
       "den pojken ser\n",
       "den flickan ser\n",
       "den flickan ser\n",
       "den flickan ser\n",
       "den flickan ser\n",
       "den flickan ser\n",
       "den flickan ser\n",
       "den flickan ser\n",
       "den flickan ser\n"
      ]
     },
     "metadata": {},
     "output_type": "display_data"
    }
   ],
   "source": [
    "gt | lin"
   ]
  },
  {
   "cell_type": "code",
   "execution_count": null,
   "metadata": {},
   "outputs": [],
   "source": []
  },
  {
   "cell_type": "code",
   "execution_count": 14,
   "metadata": {},
   "outputs": [
    {
     "data": {
      "text/plain": [
       "Exported MicroLang.gf"
      ]
     },
     "metadata": {},
     "output_type": "display_data"
    },
    {
     "data": {
      "text/plain": [
       "Exported MicroLangSwe.gf"
      ]
     },
     "metadata": {},
     "output_type": "display_data"
    },
    {
     "data": {
      "text/plain": [
       "Exported MicroResSwe.gf"
      ]
     },
     "metadata": {},
     "output_type": "display_data"
    }
   ],
   "source": [
    "export MicroLang\n",
    "export MicroLangSwe\n",
    "export MicroResSwe"
   ]
  },
  {
   "cell_type": "code",
   "execution_count": null,
   "metadata": {},
   "outputs": [],
   "source": []
  }
 ],
 "metadata": {
  "kernelspec": {
   "display_name": "GF",
   "language": "gf",
   "name": "gf"
  },
  "language_info": {
   "file_extension": ".gf",
   "mimetype": "text/gf",
   "name": "gf"
  }
 },
 "nbformat": 4,
 "nbformat_minor": 4
}
