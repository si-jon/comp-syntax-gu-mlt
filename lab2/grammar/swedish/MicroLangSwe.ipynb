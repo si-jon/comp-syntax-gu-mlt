{
 "cells": [
  {
   "cell_type": "code",
   "execution_count": 1,
   "metadata": {},
   "outputs": [
    {
     "data": {
      "text/plain": [
       "Defined MicroLang"
      ]
     },
     "metadata": {},
     "output_type": "display_data"
    }
   ],
   "source": [
    "abstract MicroLang = {\n",
    "    cat\n",
    "    Utt ;\n",
    "    S ;\n",
    "    VP ;\n",
    "    AP ;\n",
    "    CN ; -- common noun (without determiner)\n",
    "    NP ; -- noun phrase\n",
    "    Det ;\n",
    "    V ;\n",
    "    A ; \n",
    "    N ;\n",
    "\n",
    "    fun\n",
    "-- Phrase\n",
    "    UttS    : S  -> Utt ;\n",
    "    UttNP   : NP -> Utt ;\n",
    "\n",
    "-- Sentence\n",
    "    PredVPS : NP -> VP -> S ;\n",
    "\n",
    "-- Verb\n",
    "    UseV    : V  -> VP ;\n",
    "    \n",
    "-- Noun\n",
    "    DetCN      : Det -> CN -> NP ;\n",
    "    a_Det      : Det ;\n",
    "    aPl_Det    : Det ;\n",
    "    the_Det    : Det ;\n",
    "    thePl_Det  : Det ;\n",
    "    UseN       : N -> CN ;\n",
    "    AdjCN      : AP -> CN -> CN ;\n",
    "    \n",
    "-- Adjective\n",
    "    PositA     : A -> AP ;\n",
    "\n",
    "    fun\n",
    "    -- boy_N : N ;\n",
    "    -- girl_N : N ;\n",
    "    house_N : N ;\n",
    "    clever_A : A ;\n",
    "    big_A : A ;\n",
    "    jump_V : V ;\n",
    "    play_V : V ;\n",
    "    \n",
    "}\n"
   ]
  },
  {
   "cell_type": "code",
   "execution_count": 2,
   "metadata": {},
   "outputs": [
    {
     "data": {
      "text/plain": [
       "Abstract changed, previous concretes discarded.\n"
      ]
     },
     "metadata": {},
     "output_type": "display_data"
    }
   ],
   "source": [
    "resource MicroResSwe = {\n",
    "\n",
    "    param\n",
    "        Number = Sg | Pl ;\n",
    "        Species = Indef | Def ;\n",
    "        Gender = Utr | Neutr ;\n",
    "    \n",
    "        Degree = Positive | Comparative | Superlative ;\n",
    "\n",
    "    oper\n",
    "    -- Noun\n",
    "        Noun : Type = { s : Number => Species => Str ; g : Gender} ;\n",
    "\n",
    "        mkNoun : Str -> Str -> Str -> Str -> Gender -> Noun\n",
    "        = \\sgIndef,sgDef,plIndef,plDef,gen -> {\n",
    "          s = table {\n",
    "              Sg => table {Indef => sgIndef ; Def => sgDef} ;\n",
    "              Pl => table {Indef => plIndef; Def => plDef}\n",
    "          } ;\n",
    "          g = gen\n",
    "        } ;\n",
    "\n",
    "        smartNoun : Str -> Gender -> Noun = \\sgIndef,gen -> case gen of {\n",
    "        Utr => case sgIndef of {\n",
    "            pojk + \"e\" => mkNoun sgIndef (sgIndef + \"en\") (pojk + \"ar\") (pojk + \"arna\") gen ;\n",
    "            flick + \"a\" => mkNoun sgIndef (flick + \"an\") (flick + \"or\") (flick + \"orna\") gen ;\n",
    "            cyk + \"el\" => mkNoun sgIndef (cyk + \"eln\") (cyk + \"lar\") (cyk + \"larna\") gen ;\n",
    "            vä + \"n\" => mkNoun sgIndef (vä + \"nnen\") (vä + \"nner\") (vä + \"nnerna\") gen ;\n",
    "            dat + \"or\" => mkNoun sgIndef (dat + \"orn\") (dat + \"orer\") (dat + \"orerna\") gen ;\n",
    "            _ => mkNoun sgIndef (sgIndef + \"en\") (sgIndef + \"ar\") (sgIndef + \"arna\") gen\n",
    "            } ;\n",
    "        Neutr => case sgIndef of {\n",
    "            äppl + \"e\" => mkNoun sgIndef (äppl + \"et\")  (äppl + \"en\") (äppl + \"ena\") gen ;\n",
    "            vatt + \"en\" => mkNoun sgIndef (vatt + \"net\")  (vatt + \"en\") (vatt + \"nen\") gen ;\n",
    "            _ => mkNoun sgIndef (sgIndef + \"et\") (sgIndef) (sgIndef + \"en\") gen\n",
    "            }\n",
    "        } ;\n",
    "    \n",
    "    -- Adjective\n",
    "        Adjective : Type = {s : Number => Species => Gender => Str} ;\n",
    "        \n",
    "        mkAdjective : Str -> Str -> Str -> Str -> Adjective\n",
    "        = \\utrSgIndef, neutrSgIndef, sgDef, pl -> {\n",
    "          s = table {\n",
    "              Sg => table {\n",
    "                  Indef => table {Utr => utrSgIndef ; Neutr => neutrSgIndef}; \n",
    "                  Def => table {_ => sgDef}\n",
    "              } ;\n",
    "              Pl => table {\n",
    "                    _=> table {\n",
    "                        _ => pl\n",
    "                    }\n",
    "                }\n",
    "            }\n",
    "        } ;\n",
    " \n",
    "        smartAdjective : Str -> Adjective = \\adj -> case adj of {\n",
    "            smar + \"t\" => mkAdjective adj adj (adj + \"a\") (adj + \"a\") ;\n",
    "            _ => mkAdjective adj (adj + \"t\") (adj + \"a\") (adj + \"a\")\n",
    "        } ;\n",
    "  \n",
    "    -- Verb\n",
    "        Verb : Type = {s : Str} ;\n",
    "    \n",
    "        be_Verb : Verb = {s = \"är\"} ;\n",
    "        \n",
    "}"
   ]
  },
  {
   "cell_type": "code",
   "execution_count": 3,
   "metadata": {},
   "outputs": [
    {
     "data": {
      "text/plain": [
       "Abstract changed, previous concretes discarded.\n"
      ]
     },
     "metadata": {},
     "output_type": "display_data"
    }
   ],
   "source": [
    "concrete MicroLangSwe of MicroLang = open MicroResSwe in {\n",
    "    lincat\n",
    "    Utt = {s : Str} ;\n",
    "    \n",
    "    S = {s : Str} ;\n",
    "    VP = {s : Verb} ;\n",
    "    AP = Adjective ;\n",
    "    CN = Noun ;\n",
    "    NP = {s : Str} ;\n",
    "    Det = {s : Gender => Str ; n : Number ; sp : Species ;} ;\n",
    "    V = Verb ;\n",
    "    A = Adjective ; \n",
    "    N = Noun ;\n",
    "    \n",
    "    lin\n",
    "-- Phrase\n",
    "    UttS s = s ;\n",
    "    UttNP np = {s = np.s} ;\n",
    "\n",
    "-- Sentence\n",
    "    --  NP -> VP -> S ;\n",
    "    PredVPS np vp = {\n",
    "        s = np.s ++ vp.s.s\n",
    "    } ;\n",
    "\n",
    "-- Verb\n",
    "    UseV v = {\n",
    "        s = v ;\n",
    "    };\n",
    "    \n",
    "-- Noun\n",
    "    -- Det -> CN -> NP\n",
    "    DetCN det cn = {\n",
    "        s = det.s ! cn.g ++ cn.s ! det.n ! det.sp ;\n",
    "    } ;\n",
    "\n",
    "    a_Det = {\n",
    "        s = table {\n",
    "            Utr => \"en\" ;\n",
    "            Neutr => \"ett\"\n",
    "        } ;\n",
    "        n = Sg ; \n",
    "        sp = Indef\n",
    "    } ;\n",
    "    aPl_Det = {\n",
    "        s = table { _ => \"flera\" } ; \n",
    "        n = Pl ;\n",
    "        sp = Indef\n",
    "    } ;\n",
    "    the_Det = {\n",
    "        s = table {\n",
    "            Utr => \"den\" ;\n",
    "            Neutr => \"det\"\n",
    "        } ;\n",
    "        n = Sg ; \n",
    "        sp = Def\n",
    "    } ;\n",
    "    thePl_Det = {\n",
    "        s = table { _ => \"de\" } ;\n",
    "        n = Pl ;\n",
    "        sp = Def\n",
    "    } ;\n",
    "    \n",
    "    UseN n = n ;\n",
    "    -- Noun : Type = { s : Number => Species => Str ; g : Gender} ;\n",
    "    -- Adjective : Type = { s : Number => Species => Gender => Str}\n",
    "    AdjCN ap cn = {\n",
    "        g = cn.g ;\n",
    "        s = table {\n",
    "            n => table {\n",
    "                sp => ap.s ! n ! sp ! cn.g ++ cn.s ! n ! sp\n",
    "            }\n",
    "        } ;\n",
    "    } ;\n",
    "    \n",
    "-- Adjective\n",
    "    PositA a = a;\n",
    "    \n",
    "    -- lin boy_N = mkN \"pojke\" Utr ;\n",
    "    -- lin girl_N = mkN \"flicka\" Utr ;\n",
    "    lin house_N = mkN \"hus\" Neutr ;\n",
    "    lin clever_A = mkA \"smart\" ;\n",
    "    lin big_A = mkA \"stor\" ;\n",
    "    lin jump_V = mkV \"hoppa\" ;\n",
    "    lin play_V = mkV \"leka\" ;\n",
    "\n",
    "    oper \n",
    "    mkN = overload {\n",
    "        mkN : Str -> Gender -> Noun   -- predictable noun, e.g. bil-bilen-bilar-bilarna, fluga-flugan-flugor-flugorna\n",
    "          = \\n,g -> lin N (smartNoun n g) ;\n",
    "        mkN : Str -> Str -> Str -> Str -> Gender -> Noun  -- irregular noun, e.g. man-mannen-män-männen,\n",
    "          = \\sgIndef,sgDef,plIndef,plDef,gen -> lin N (mkNoun sgIndef sgDef plIndef plDef gen) ;\n",
    "        } ;\n",
    "    -- utrSgIndef, neutrSgIndef, sgDef, pl \n",
    "    mkA = overload {\n",
    "        mkA : Str -> A -- predictable adjective\n",
    "          = \\adj -> lin A (smartAdjective adj) ;\n",
    "        mkA : Str -> Str -> Str -> Str -> A -- very irregular adjective\n",
    "          = \\utrSgIndef,neutrSgIndef,sgDef,pl -> lin A (mkAdjective utrSgIndef neutrSgIndef sgDef pl) ;\n",
    "    } ;\n",
    "    \n",
    "    mkV : Str -> Verb\n",
    "        = \\s -> lin V {s = s} ;\n",
    "}\n"
   ]
  },
  {
   "cell_type": "code",
   "execution_count": 4,
   "metadata": {},
   "outputs": [
    {
     "data": {
      "text/plain": [
       "PredVPS (DetCN aPl_Det (AdjCN (PositA clever_A) (UseN house_N))) (UseV jump_V)\n"
      ]
     },
     "metadata": {},
     "output_type": "display_data"
    }
   ],
   "source": [
    "gr"
   ]
  },
  {
   "cell_type": "code",
   "execution_count": null,
   "metadata": {},
   "outputs": [],
   "source": []
  },
  {
   "cell_type": "code",
   "execution_count": 5,
   "metadata": {},
   "outputs": [
    {
     "data": {
      "text/plain": [
       "de smarta husen hoppa\n"
      ]
     },
     "metadata": {},
     "output_type": "display_data"
    }
   ],
   "source": [
    "gr | lin"
   ]
  },
  {
   "cell_type": "code",
   "execution_count": 6,
   "metadata": {},
   "outputs": [
    {
     "data": {
      "text/plain": [
       "flera stora hus hoppa\n",
       "flera stora hus leka\n",
       "flera smarta hus hoppa\n",
       "flera smarta hus leka\n",
       "flera hus hoppa\n",
       "flera hus leka\n",
       "ett stort hus hoppa\n",
       "ett stort hus leka\n",
       "ett smart hus hoppa\n",
       "ett smart hus leka\n",
       "ett hus hoppa\n",
       "ett hus leka\n",
       "de stora husen hoppa\n",
       "de stora husen leka\n",
       "de smarta husen hoppa\n",
       "de smarta husen leka\n",
       "de husen hoppa\n",
       "de husen leka\n",
       "det stora huset hoppa\n",
       "det stora huset leka\n",
       "det smarta huset hoppa\n",
       "det smarta huset leka\n",
       "det huset hoppa\n",
       "det huset leka\n"
      ]
     },
     "metadata": {},
     "output_type": "display_data"
    }
   ],
   "source": [
    "gt | lin"
   ]
  },
  {
   "cell_type": "code",
   "execution_count": 97,
   "metadata": {},
   "outputs": [
    {
     "data": {
      "text/plain": [
       "Exported MicroLang.gf"
      ]
     },
     "metadata": {},
     "output_type": "display_data"
    },
    {
     "data": {
      "text/plain": [
       "Exported MicroResSwe.gf"
      ]
     },
     "metadata": {},
     "output_type": "display_data"
    },
    {
     "data": {
      "text/plain": [
       "Exported MicroLangSwe.gf"
      ]
     },
     "metadata": {},
     "output_type": "display_data"
    }
   ],
   "source": []
  },
  {
   "cell_type": "code",
   "execution_count": 92,
   "metadata": {},
   "outputs": [
    {
     "data": {
      "text/plain": [
       "Exported MicroLangSwe.gf"
      ]
     },
     "metadata": {},
     "output_type": "display_data"
    }
   ],
   "source": []
  },
  {
   "cell_type": "code",
   "execution_count": null,
   "metadata": {},
   "outputs": [],
   "source": []
  }
 ],
 "metadata": {
  "kernelspec": {
   "display_name": "GF",
   "language": "gf",
   "name": "gf"
  },
  "language_info": {
   "file_extension": ".gf",
   "mimetype": "text/gf",
   "name": "gf"
  }
 },
 "nbformat": 4,
 "nbformat_minor": 4
}
